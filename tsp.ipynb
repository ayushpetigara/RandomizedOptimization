{
 "cells": [
  {
   "cell_type": "markdown",
   "metadata": {},
   "source": [
    "# Travelling Salesman Problem"
   ]
  },
  {
   "cell_type": "code",
   "execution_count": 1,
   "metadata": {},
   "outputs": [],
   "source": [
    "import mlrose_hiive\n",
    "import numpy as np\n",
    "import time\n",
    "import matplotlib.pyplot as plt"
   ]
  },
  {
   "cell_type": "markdown",
   "metadata": {},
   "source": [
    "References\n",
    "* [mlrose tutorial](https://github.com/gkhayes/mlrose/blob/master/tutorial_examples.ipynb)\n",
    "* [mlrose documentation](https://mlrose.readthedocs.io/en/stable/)"
   ]
  },
  {
   "cell_type": "code",
   "execution_count": 2,
   "metadata": {},
   "outputs": [],
   "source": [
    "problem = mlrose_hiive.TSPGenerator.generate(seed=0, number_of_cities=15)"
   ]
  },
  {
   "cell_type": "code",
   "execution_count": 6,
   "metadata": {},
   "outputs": [],
   "source": [
    "def find_best_runs(df_run_curves):\n",
    "    best_fitness = df_run_curves['Fitness'].min()\n",
    "    best_runs = df_run_curves[df_run_curves['Fitness'] == best_fitness]\n",
    "    print(best_runs)\n",
    "\n",
    "def fitness_curve(curve, title):\n",
    "    plt.xlabel(\"Iteration\")\n",
    "    plt.ylabel(\"Fitness\")\n",
    "    plt.title(title)\n",
    "    length = len(curve)\n",
    "    y = \"Fitness\"\n",
    "    plt.plot(range(length), curve, label=\"Fitness\", lw=2)\n",
    "    plt.legend(loc=\"best\")\n",
    "    plt.show()"
   ]
  },
  {
   "cell_type": "code",
   "execution_count": 4,
   "metadata": {},
   "outputs": [
    {
     "name": "stdout",
     "output_type": "stream",
     "text": [
      "        Iteration      Time     Fitness   FEvals  Restarts  max_iters  \\\n",
      "28611         328  0.039293  884.091105  16080.0        75        512   \n",
      "28612         329  0.039408  884.091105  16081.0        75        512   \n",
      "28613         330  0.039558  884.091105  16082.0        75        512   \n",
      "28614         331  0.039720  884.091105  16083.0        75        512   \n",
      "28615         332  0.039861  884.091105  16084.0        75        512   \n",
      "...           ...       ...         ...      ...       ...        ...   \n",
      "101057        508  0.064701  884.091105  51842.0       100        512   \n",
      "101058        509  0.064834  884.091105  51843.0       100        512   \n",
      "101059        510  0.064969  884.091105  51844.0       100        512   \n",
      "101060        511  0.065149  884.091105  51845.0       100        512   \n",
      "101061        512  0.065298  884.091105  51846.0       100        512   \n",
      "\n",
      "        current_restart  \n",
      "28611                30  \n",
      "28612                30  \n",
      "28613                30  \n",
      "28614                30  \n",
      "28615                30  \n",
      "...                 ...  \n",
      "101057               99  \n",
      "101058               99  \n",
      "101059               99  \n",
      "101060               99  \n",
      "101061               99  \n",
      "\n",
      "[738 rows x 7 columns]\n"
     ]
    }
   ],
   "source": [
    "rhc = mlrose_hiive.RHCRunner(problem=problem,\n",
    "                experiment_name=\"RHC on TSP\",\n",
    "                seed=0,\n",
    "                iteration_list=[512],\n",
    "                max_attempts=300,\n",
    "                restart_list=[25, 75, 100])   \n",
    "\n",
    "df_run_stats, df_run_curves = rhc.run()\n",
    "find_best_runs(df_run_curves)"
   ]
  },
  {
   "cell_type": "code",
   "execution_count": 5,
   "metadata": {},
   "outputs": [
    {
     "name": "stdout",
     "output_type": "stream",
     "text": [
      "Time for RHC CPP:  0.8217120170593262\n"
     ]
    }
   ],
   "source": [
    "st = time.time()\n",
    "best_state, best_fitness, rhc_curve = mlrose_hiive.random_hill_climb(problem,\n",
    "                                                         max_attempts=300,\n",
    "                                                         max_iters=512,\n",
    "                                                         random_state=0,\n",
    "                                                         restarts=75,\n",
    "                                                         curve=True)\n",
    "et = time.time()\n",
    "\n",
    "rhc_wc_time = et - st\n",
    "print(\"Time for RHC CPP: \", rhc_wc_time)"
   ]
  },
  {
   "cell_type": "code",
   "execution_count": 10,
   "metadata": {},
   "outputs": [
    {
     "data": {
      "image/png": "[encoded data removed]",
      "text/plain": [
       "<Figure size 432x288 with 1 Axes>"
      ]
     },
     "metadata": {
      "needs_background": "light"
     },
     "output_type": "display_data"
    }
   ],
   "source": [
    "fitness_curve(rhc_curve[:, 0], \"TSP RHC Fitness Curve\")"
   ]
  },
  {
   "cell_type": "code",
   "execution_count": 12,
   "metadata": {},
   "outputs": [
    {
     "name": "stdout",
     "output_type": "stream",
     "text": [
      "      Iteration      Time     Fitness  FEvals Temperature  max_iters\n",
      "926         413  0.044167  884.091105   494.0         100        512\n",
      "927         414  0.044309  884.091105   495.0         100        512\n",
      "928         415  0.044451  884.091105   496.0         100        512\n",
      "929         416  0.044593  884.091105   497.0         100        512\n",
      "930         417  0.044737  884.091105   498.0         100        512\n",
      "...         ...       ...         ...     ...         ...        ...\n",
      "1021        508  0.058179  884.091105   589.0         100        512\n",
      "1022        509  0.058328  884.091105   590.0         100        512\n",
      "1023        510  0.058477  884.091105   591.0         100        512\n",
      "1024        511  0.058620  884.091105   592.0         100        512\n",
      "1025        512  0.058754  884.091105   593.0         100        512\n",
      "\n",
      "[100 rows x 6 columns]\n"
     ]
    }
   ],
   "source": [
    "sa = mlrose_hiive.SARunner(problem=problem,\n",
    "                  experiment_name=\"SA on TSP\",\n",
    "                  seed=0,\n",
    "                  iteration_list=[512],\n",
    "                  max_attempts=300,\n",
    "                  temperature_list=[100, 200],\n",
    "                  decay_list=[mlrose_hiive.GeomDecay, mlrose_hiive.ExpDecay])\n",
    "\n",
    "df_run_stats_sa, df_run_curves_sa = sa.run()\n",
    "find_best_runs(df_run_curves_sa)"
   ]
  },
  {
   "cell_type": "code",
   "execution_count": 13,
   "metadata": {},
   "outputs": [
    {
     "name": "stdout",
     "output_type": "stream",
     "text": [
      "Time for SA TSP:  0.029947757720947266\n"
     ]
    }
   ],
   "source": [
    "st = time.time()\n",
    "best_state, best_fitness, sa_curve = mlrose_hiive.simulated_annealing(problem,\n",
    "                                                             max_attempts=300,\n",
    "                                                             max_iters=512,\n",
    "                                                             random_state=0,\n",
    "                                                             schedule=mlrose_hiive.GeomDecay(100),\n",
    "                                                             curve=True)\n",
    "et = time.time()\n",
    "sa_wc_time = et - st\n",
    "print(\"Time for SA TSP: \", sa_wc_time)"
   ]
  },
  {
   "cell_type": "code",
   "execution_count": 14,
   "metadata": {},
   "outputs": [
    {
     "data": {
      "image/png": "[encoded data removed]",
      "text/plain": [
       "<Figure size 432x288 with 1 Axes>"
      ]
     },
     "metadata": {
      "needs_background": "light"
     },
     "output_type": "display_data"
    }
   ],
   "source": [
    "fitness_curve(sa_curve[:,0], \"CPP SA Fitness Curve\")"
   ]
  },
  {
   "cell_type": "code",
   "execution_count": 15,
   "metadata": {},
   "outputs": [
    {
     "name": "stdout",
     "output_type": "stream",
     "text": [
      "      Iteration      Time     Fitness    FEvals  Population Size  \\\n",
      "717          56  1.397843  884.091105   28577.0              500   \n",
      "718          57  1.421398  884.091105   29078.0              500   \n",
      "719          58  1.444946  884.091105   29579.0              500   \n",
      "720          59  1.468346  884.091105   30080.0              500   \n",
      "721          60  1.491867  884.091105   30581.0              500   \n",
      "...         ...       ...         ...       ...              ...   \n",
      "2219        508  4.293965  884.091105  509527.0             1000   \n",
      "2220        509  4.318754  884.091105  510528.0             1000   \n",
      "2221        510  4.343481  884.091105  511529.0             1000   \n",
      "2222        511  4.368377  884.091105  512530.0             1000   \n",
      "2223        512  4.393404  884.091105  513531.0             1000   \n",
      "\n",
      "      Mutation Rate  max_iters  \n",
      "717             0.5        512  \n",
      "718             0.5        512  \n",
      "719             0.5        512  \n",
      "720             0.5        512  \n",
      "721             0.5        512  \n",
      "...             ...        ...  \n",
      "2219            0.5        512  \n",
      "2220            0.5        512  \n",
      "2221            0.5        512  \n",
      "2222            0.5        512  \n",
      "2223            0.5        512  \n",
      "\n",
      "[805 rows x 7 columns]\n"
     ]
    }
   ],
   "source": [
    "ga = mlrose_hiive.GARunner(problem=problem,\n",
    "                   experiment_name=\"GA on TSP\",\n",
    "                   seed=0,\n",
    "                   max_attempts=300,\n",
    "                   iteration_list=[512],\n",
    "                   population_sizes=[500, 1000],\n",
    "                   mutation_rates=[0.1, 0.25, 0.5])\n",
    "df_run_stats_ga, df_run_curves_ga = ga.run()\n",
    "find_best_runs(df_run_curves_ga)"
   ]
  },
  {
   "cell_type": "code",
   "execution_count": 16,
   "metadata": {},
   "outputs": [
    {
     "name": "stdout",
     "output_type": "stream",
     "text": [
      "Time for GA CPP:  8.411242961883545\n"
     ]
    }
   ],
   "source": [
    "st = time.time()\n",
    "best_state, best_fitness, ga_curve = mlrose_hiive.genetic_alg(problem,\n",
    "                                                   max_attempts=300,\n",
    "                                                   max_iters=512,\n",
    "                                                   random_state=0,\n",
    "                                                   pop_size=500,\n",
    "                                                   mutation_prob=0.5,\n",
    "                                                   curve=True)\n",
    "et = time.time()\n",
    "sa_wc_time = et - st\n",
    "print(\"Time for GA CPP: \", sa_wc_time)"
   ]
  },
  {
   "cell_type": "code",
   "execution_count": 17,
   "metadata": {},
   "outputs": [
    {
     "data": {
      "image/png": "[encoded data removed]",
      "text/plain": [
       "<Figure size 432x288 with 1 Axes>"
      ]
     },
     "metadata": {
      "needs_background": "light"
     },
     "output_type": "display_data"
    }
   ],
   "source": [
    "fitness_curve(ga_curve[:,0], \"TSP GA Fitness Curve\")"
   ]
  },
  {
   "cell_type": "code",
   "execution_count": 18,
   "metadata": {},
   "outputs": [
    {
     "name": "stdout",
     "output_type": "stream",
     "text": [
      "      Iteration      Time      Fitness    FEvals  use_fast_mimic  \\\n",
      "2130          6  0.264655  1030.101016    7011.0            True   \n",
      "2131          7  0.304525  1030.101016    8012.0            True   \n",
      "2132          8  0.343700  1030.101016    9013.0            True   \n",
      "2133          9  0.382326  1030.101016   10014.0            True   \n",
      "2134         10  0.421046  1030.101016   11015.0            True   \n",
      "...         ...       ...          ...       ...             ...   \n",
      "2426        302  0.001482  1030.101016  303307.0            True   \n",
      "2427        303  0.034829  1030.101016  304308.0            True   \n",
      "2428        304  0.067301  1030.101016  305309.0            True   \n",
      "2429        305  0.098768  1030.101016  306310.0            True   \n",
      "2430        306  0.137212  1030.101016  307311.0            True   \n",
      "\n",
      "      Population Size  Keep Percent  max_iters  \n",
      "2130             1000           0.1        512  \n",
      "2131             1000           0.1        512  \n",
      "2132             1000           0.1        512  \n",
      "2133             1000           0.1        512  \n",
      "2134             1000           0.1        512  \n",
      "...               ...           ...        ...  \n",
      "2426             1000           0.1        512  \n",
      "2427             1000           0.1        512  \n",
      "2428             1000           0.1        512  \n",
      "2429             1000           0.1        512  \n",
      "2430             1000           0.1        512  \n",
      "\n",
      "[301 rows x 8 columns]\n"
     ]
    }
   ],
   "source": [
    "mimic = mlrose_hiive.MIMICRunner(problem=problem,\n",
    "                       experiment_name=\"FFP MIMIC Fitness Curve\",\n",
    "                       seed=0,\n",
    "                       population_sizes=[100, 500, 1000],\n",
    "                       keep_percent_list=[0.05, 0.1, 0.15],\n",
    "                       iteration_list=[512],\n",
    "                       max_attempts=300,\n",
    "                       use_fast_mimic=True)\n",
    "mimic_stats, mimic_curve = mimic.run()\n",
    "find_best_runs(mimic_curve)"
   ]
  },
  {
   "cell_type": "code",
   "execution_count": 19,
   "metadata": {},
   "outputs": [
    {
     "name": "stdout",
     "output_type": "stream",
     "text": [
      "Time for mimic TSP:  8.411242961883545\n"
     ]
    }
   ],
   "source": [
    "st = time.time()\n",
    "best_state, best_fitness, mimic_curve = mlrose_hiive.mimic(problem,\n",
    "                                             max_attempts=300,\n",
    "                                             max_iters=512,\n",
    "                                             random_state=0,\n",
    "                                             pop_size=100,\n",
    "                                             keep_pct=0.05,\n",
    "                                             curve=True)\n",
    "et = time.time()\n",
    "mimic_wc_time = et - st\n",
    "print(\"Time for mimic : \", sa_wc_time)"
   ]
  },
  {
   "cell_type": "code",
   "execution_count": 23,
   "metadata": {},
   "outputs": [
    {
     "name": "stdout",
     "output_type": "stream",
     "text": [
      "12.03774094581604\n"
     ]
    },
    {
     "data": {
      "image/png": "[encoded data removed]",
      "text/plain": [
       "<Figure size 432x288 with 1 Axes>"
      ]
     },
     "metadata": {
      "needs_background": "light"
     },
     "output_type": "display_data"
    }
   ],
   "source": [
    "print(mimic_wc_time)\n",
    "fitness_curve(mimic_curve[:,0], \"FFP MIMIC Fitness Curve\")"
   ]
  },
  {
   "cell_type": "code",
   "execution_count": 21,
   "metadata": {},
   "outputs": [
    {
     "data": {
      "text/plain": [
       "Text(0, 0.5, 'Fitness')"
      ]
     },
     "execution_count": 21,
     "metadata": {},
     "output_type": "execute_result"
    },
    {
     "data": {
      "image/png": "[encoded data removed]",
      "text/plain": [
       "<Figure size 432x288 with 1 Axes>"
      ]
     },
     "metadata": {
      "needs_background": "light"
     },
     "output_type": "display_data"
    }
   ],
   "source": [
    "iterations = range(1, 500)\n",
    "plt.plot(rhc_curve[:, 0], label='RHC', color='green')\n",
    "plt.plot(sa_curve[:, 1], label='SA', color='red')\n",
    "plt.plot(ga_curve[:, 1], label='GA', color='blue')\n",
    "plt.plot(mimic_curve[:, 0], label='MIMIC', color='orange')\n",
    "plt.legend(loc=\"best\")\n",
    "plt.xlabel(\"Iterations\")\n",
    "plt.ylabel(\"Fitness\")"
   ]
  },
  {
   "cell_type": "code",
   "execution_count": null,
   "metadata": {},
   "outputs": [],
   "source": []
  }
 ],
 "metadata": {
  "interpreter": {
   "hash": "aee8b7b246df8f9039afb4144a1f6fd8d2ca17a180786b69acc140d282b71a49"
  },
  "kernelspec": {
   "display_name": "Python 3 (ipykernel)",
   "language": "python",
   "name": "python3"
  },
  "language_info": {
   "codemirror_mode": {
    "name": "ipython",
    "version": 3
   },
   "file_extension": ".py",
   "mimetype": "text/x-python",
   "name": "python",
   "nbconvert_exporter": "python",
   "pygments_lexer": "ipython3",
   "version": "3.9.10"
  }
 },
 "nbformat": 4,
 "nbformat_minor": 2
}
