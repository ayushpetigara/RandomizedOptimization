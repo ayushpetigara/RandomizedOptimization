{
 "cells": [
  {
   "cell_type": "markdown",
   "metadata": {},
   "source": [
    "# Flip Flop Problem"
   ]
  },
  {
   "cell_type": "code",
   "execution_count": 14,
   "metadata": {},
   "outputs": [],
   "source": [
    "import mlrose_hiive\n",
    "import numpy as np\n",
    "import time\n",
    "import matplotlib.pyplot as plt"
   ]
  },
  {
   "cell_type": "markdown",
   "metadata": {},
   "source": [
    "References\n",
    "* [mlrose tutorial](https://github.com/gkhayes/mlrose/blob/master/tutorial_examples.ipynb)\n",
    "* [mlrose documentation](https://mlrose.readthedocs.io/en/stable/)"
   ]
  },
  {
   "cell_type": "code",
   "execution_count": 7,
   "metadata": {},
   "outputs": [],
   "source": [
    "problem = mlrose_hiive.FlipFlopGenerator.generate(0, 15)"
   ]
  },
  {
   "cell_type": "code",
   "execution_count": 22,
   "metadata": {},
   "outputs": [],
   "source": [
    "def find_best_runs(df_run_curves):\n",
    "    best_fitness = df_run_curves['Fitness'].min()\n",
    "    best_runs = df_run_curves[df_run_curves['Fitness'] == best_fitness]\n",
    "    print(best_runs)\n",
    "    \n",
    "def fitness_curve(curve, title):\n",
    "    plt.xlabel(\"Iteration\")\n",
    "    plt.ylabel(\"Fitness\")\n",
    "    plt.title(title)\n",
    "    length = len(curve)\n",
    "    y = \"Fitness\"\n",
    "    plt.plot(range(length), curve, label=\"Fitness\", lw=2)\n",
    "    plt.legend(loc=\"best\")\n",
    "    plt.show()"
   ]
  },
  {
   "cell_type": "code",
   "execution_count": 43,
   "metadata": {},
   "outputs": [
    {
     "name": "stdout",
     "output_type": "stream",
     "text": [
      "       Iteration      Time  Fitness   FEvals  Restarts  max_iters  \\\n",
      "17778          1  0.001326      3.0   9286.0        75        512   \n",
      "22274          1  0.001326      3.0  13825.0        75        512   \n",
      "42273          1  0.001326      3.0   9286.0       100        512   \n",
      "46769          1  0.001326      3.0  13825.0       100        512   \n",
      "\n",
      "       current_restart  \n",
      "17778               28  \n",
      "22274               42  \n",
      "42273               28  \n",
      "46769               42  \n"
     ]
    }
   ],
   "source": [
    "rhc = mlrose_hiive.RHCRunner(problem=problem,\n",
    "                experiment_name=\"RHC on FFP\",\n",
    "                seed=0,\n",
    "                iteration_list=[512],\n",
    "                max_attempts=300,\n",
    "                restart_list=[25, 75, 100])   \n",
    "\n",
    "df_run_stats, df_run_curves = rhc.run()\n",
    "find_best_runs(df_run_curves)"
   ]
  },
  {
   "cell_type": "code",
   "execution_count": 44,
   "metadata": {},
   "outputs": [
    {
     "name": "stdout",
     "output_type": "stream",
     "text": [
      "Time for RHC FFP:  0.016808748245239258\n"
     ]
    }
   ],
   "source": [
    "st = time.time()\n",
    "best_state, best_fitness, rhc_curve = mlrose_hiive.random_hill_climb(problem,\n",
    "                                                         max_attempts=300,\n",
    "                                                         max_iters=512,\n",
    "                                                         random_state=0,\n",
    "                                                         restarts=105,\n",
    "                                                         curve=True)\n",
    "et = time.time()\n",
    "\n",
    "rhc_wc_time = et - st\n",
    "print(\"Time for RHC FFP: \", rhc_wc_time)"
   ]
  },
  {
   "cell_type": "code",
   "execution_count": 55,
   "metadata": {},
   "outputs": [
    {
     "data": {
      "image/png": "[encoded data removed]",
      "text/plain": [
       "<Figure size 432x288 with 1 Axes>"
      ]
     },
     "metadata": {
      "needs_background": "light"
     },
     "output_type": "display_data"
    }
   ],
   "source": [
    "fitness_curve(rhc_curve[:,0], \"FFP RHC Fitness Curve\")\n"
   ]
  },
  {
   "cell_type": "code",
   "execution_count": 46,
   "metadata": {},
   "outputs": [
    {
     "name": "stdout",
     "output_type": "stream",
     "text": [
      "      Iteration      Time  Fitness  FEvals Temperature  max_iters\n",
      "1563        167  0.002882      1.0   322.0          10        512\n"
     ]
    }
   ],
   "source": [
    "sa = mlrose_hiive.SARunner(problem=problem,\n",
    "                  experiment_name=\"SA on FFP\",\n",
    "                  seed=0,\n",
    "                  iteration_list=[512],\n",
    "                  max_attempts=300,\n",
    "                  temperature_list=[0.1, 1, 10, 100],\n",
    "                  decay_list=[mlrose_hiive.GeomDecay, mlrose_hiive.ExpDecay])\n",
    "\n",
    "df_run_stats_sa, df_run_curves_sa = sa.run()\n",
    "find_best_runs(df_run_curves_sa)"
   ]
  },
  {
   "cell_type": "code",
   "execution_count": 49,
   "metadata": {},
   "outputs": [
    {
     "name": "stdout",
     "output_type": "stream",
     "text": [
      "Time for SA CPP:  0.03619098663330078\n"
     ]
    }
   ],
   "source": [
    "st = time.time()\n",
    "best_state, best_fitness, sa_curve = mlrose_hiive.simulated_annealing(problem,\n",
    "                                                             max_attempts=300,\n",
    "                                                             max_iters=512,\n",
    "                                                             random_state=0,\n",
    "                                                             schedule=mlrose_hiive.GeomDecay(10),\n",
    "                                                             curve=True)\n",
    "et = time.time()\n",
    "sa_wc_time = et - st\n",
    "print(\"Time for SA CPP: \", sa_wc_time)"
   ]
  },
  {
   "cell_type": "code",
   "execution_count": 58,
   "metadata": {},
   "outputs": [
    {
     "data": {
      "image/png": "[encoded data removed]",
      "text/plain": [
       "<Figure size 432x288 with 1 Axes>"
      ]
     },
     "metadata": {
      "needs_background": "light"
     },
     "output_type": "display_data"
    }
   ],
   "source": [
    "fitness_curve(sa_curve[:,0], \"FFP SA Fitness Curve\")"
   ]
  },
  {
   "cell_type": "code",
   "execution_count": 60,
   "metadata": {},
   "outputs": [
    {
     "name": "stdout",
     "output_type": "stream",
     "text": [
      "    Iteration      Time  Fitness  FEvals  Population Size  Mutation Rate  \\\n",
      "0           0  0.002732      6.0     0.0              500           0.10   \n",
      "6           0  0.002732      6.0     0.0              500           0.25   \n",
      "12          0  0.002732      6.0     0.0              500           0.50   \n",
      "16          0  0.002732      6.0     0.0             1000           0.10   \n",
      "19          0  0.002732      6.0     0.0             1000           0.25   \n",
      "22          0  0.002732      6.0     0.0             1000           0.50   \n",
      "\n",
      "    max_iters  \n",
      "0         512  \n",
      "6         512  \n",
      "12        512  \n",
      "16        512  \n",
      "19        512  \n",
      "22        512  \n"
     ]
    }
   ],
   "source": [
    "ga = mlrose_hiive.GARunner(problem=problem,\n",
    "                   experiment_name=\"GA on FFP\",\n",
    "                   seed=0,\n",
    "                   max_attempts=300,\n",
    "                   iteration_list=[512],\n",
    "                   population_sizes=[500, 1000],\n",
    "                   mutation_rates=[0.1, 0.25, 0.5])\n",
    "df_run_stats_ga, df_run_curves_ga = ga.run()\n",
    "find_best_runs(df_run_curves_ga)"
   ]
  },
  {
   "cell_type": "code",
   "execution_count": 68,
   "metadata": {},
   "outputs": [
    {
     "name": "stdout",
     "output_type": "stream",
     "text": [
      "Time for GA CPP:  2.440134286880493\n"
     ]
    }
   ],
   "source": [
    "st = time.time()\n",
    "best_state, best_fitness, ga_curve = mlrose_hiive.genetic_alg(problem,\n",
    "                                                   max_attempts=300,\n",
    "                                                   max_iters=512,\n",
    "                                                   random_state=0,\n",
    "                                                   pop_size=500,\n",
    "                                                   mutation_prob=0.10,\n",
    "                                                   curve=True)\n",
    "et = time.time()\n",
    "sa_wc_time = et - st\n",
    "print(\"Time for GA CPP: \", sa_wc_time)"
   ]
  },
  {
   "cell_type": "code",
   "execution_count": 69,
   "metadata": {},
   "outputs": [
    {
     "data": {
      "image/png": "[encoded data removed]",
      "text/plain": [
       "<Figure size 432x288 with 1 Axes>"
      ]
     },
     "metadata": {
      "needs_background": "light"
     },
     "output_type": "display_data"
    }
   ],
   "source": [
    "fitness_curve(ga_curve[:,0], \"FFP GA Fitness Curve\")"
   ]
  },
  {
   "cell_type": "code",
   "execution_count": 67,
   "metadata": {},
   "outputs": [
    {
     "name": "stdout",
     "output_type": "stream",
     "text": [
      "     Iteration      Time  Fitness  FEvals  use_fast_mimic  Population Size  \\\n",
      "0            0  0.001473      6.0     0.0            True              100   \n",
      "302          0  0.001473      6.0     0.0            True              100   \n",
      "604          0  0.001473      6.0     0.0            True              100   \n",
      "906          0  0.001473      6.0     0.0            True              500   \n",
      "908          0  0.001473      6.0     0.0            True              500   \n",
      "910          0  0.001473      6.0     0.0            True              500   \n",
      "912          0  0.001473      6.0     0.0            True             1000   \n",
      "914          0  0.001473      6.0     0.0            True             1000   \n",
      "916          0  0.001473      6.0     0.0            True             1000   \n",
      "\n",
      "     Keep Percent  max_iters  \n",
      "0            0.05        512  \n",
      "302          0.10        512  \n",
      "604          0.15        512  \n",
      "906          0.05        512  \n",
      "908          0.10        512  \n",
      "910          0.15        512  \n",
      "912          0.05        512  \n",
      "914          0.10        512  \n",
      "916          0.15        512  \n"
     ]
    }
   ],
   "source": [
    "mimic = mlrose_hiive.MIMICRunner(problem=problem,\n",
    "                       experiment_name=\"FFP MIMIC Fitness Curve\",\n",
    "                       seed=0,\n",
    "                       population_sizes=[100, 500, 1000],\n",
    "                       keep_percent_list=[0.05, 0.1, 0.15],\n",
    "                       iteration_list=[512],\n",
    "                       max_attempts=300,\n",
    "                       use_fast_mimic=True)\n",
    "mimic_stats, mimic_curve = mimic.run()\n",
    "find_best_runs(mimic_curve)"
   ]
  },
  {
   "cell_type": "code",
   "execution_count": 71,
   "metadata": {},
   "outputs": [
    {
     "name": "stdout",
     "output_type": "stream",
     "text": [
      "Time for mimic CPP:  2.440134286880493\n"
     ]
    }
   ],
   "source": [
    "st = time.time()\n",
    "best_state, best_fitness, mimic_curve = mlrose_hiive.mimic(problem,\n",
    "                                             max_attempts=300,\n",
    "                                             max_iters=512,\n",
    "                                             random_state=0,\n",
    "                                             pop_size=100,\n",
    "                                             keep_pct=0.05,\n",
    "                                             curve=True)\n",
    "et = time.time()\n",
    "mimic_wc_time = et - st\n",
    "print(\"Time for mimic CPP: \", sa_wc_time)"
   ]
  },
  {
   "cell_type": "code",
   "execution_count": 87,
   "metadata": {},
   "outputs": [
    {
     "data": {
      "image/png": "[encoded data removed]",
      "text/plain": [
       "<Figure size 432x288 with 1 Axes>"
      ]
     },
     "metadata": {
      "needs_background": "light"
     },
     "output_type": "display_data"
    }
   ],
   "source": [
    "\n",
    "fitness_curve(mimic_curve[:,0], \"FFP MIMIC Fitness Curve\")"
   ]
  },
  {
   "cell_type": "code",
   "execution_count": 85,
   "metadata": {},
   "outputs": [
    {
     "data": {
      "text/plain": [
       "Text(0, 0.5, 'Fitness')"
      ]
     },
     "execution_count": 85,
     "metadata": {},
     "output_type": "execute_result"
    },
    {
     "data": {
      "image/png": "[encoded data removed]",
      "text/plain": [
       "<Figure size 432x288 with 1 Axes>"
      ]
     },
     "metadata": {
      "needs_background": "light"
     },
     "output_type": "display_data"
    }
   ],
   "source": [
    "iterations = range(1, 500)\n",
    "plt.plot(rhc_curve[:, 0], label='RHC', color='green')\n",
    "plt.plot(sa_curve[:, 1], label='SA', color='red')\n",
    "plt.plot(ga_curve[:, 1], label='GA', color='blue')\n",
    "plt.plot(mimic_curve[:, 0], label='MIMIC', color='orange')\n",
    "plt.legend(loc=\"best\")\n",
    "plt.xlabel(\"Iterations\")\n",
    "plt.ylabel(\"Fitness\")"
   ]
  },
  {
   "cell_type": "code",
   "execution_count": null,
   "metadata": {},
   "outputs": [],
   "source": []
  }
 ],
 "metadata": {
  "interpreter": {
   "hash": "aee8b7b246df8f9039afb4144a1f6fd8d2ca17a180786b69acc140d282b71a49"
  },
  "kernelspec": {
   "display_name": "Python 3 (ipykernel)",
   "language": "python",
   "name": "python3"
  },
  "language_info": {
   "codemirror_mode": {
    "name": "ipython",
    "version": 3
   },
   "file_extension": ".py",
   "mimetype": "text/x-python",
   "name": "python",
   "nbconvert_exporter": "python",
   "pygments_lexer": "ipython3",
   "version": "3.9.10"
  }
 },
 "nbformat": 4,
 "nbformat_minor": 2
}
