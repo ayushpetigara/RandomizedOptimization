{
 "cells": [
  {
   "cell_type": "markdown",
   "metadata": {},
   "source": [
    "# Continuous Peaks Problem"
   ]
  },
  {
   "cell_type": "code",
   "execution_count": 10,
   "metadata": {},
   "outputs": [],
   "source": [
    "import mlrose_hiive\n",
    "import time\n",
    "import numpy as np\n",
    "import matplotlib.pyplot as plt"
   ]
  },
  {
   "cell_type": "markdown",
   "metadata": {},
   "source": [
    "References\n",
    "* [mlrose tutorial](https://github.com/gkhayes/mlrose/blob/master/tutorial_examples.ipynb)\n",
    "* [mlrose documentation](https://mlrose.readthedocs.io/en/stable/)"
   ]
  },
  {
   "cell_type": "code",
   "execution_count": 2,
   "metadata": {},
   "outputs": [],
   "source": [
    "problem = mlrose_hiive.ContinuousPeaksGenerator.generate(0, 15)"
   ]
  },
  {
   "cell_type": "code",
   "execution_count": 8,
   "metadata": {},
   "outputs": [],
   "source": [
    "def find_best_runs(df_run_curves):\n",
    "    best_fitness = df_run_curves['Fitness'].min()\n",
    "    best_runs = df_run_curves[df_run_curves['Fitness'] == best_fitness]\n",
    "    print(best_runs)\n",
    "    \n",
    "def fitness_curve(curve, title):\n",
    "    plt.xlabel(\"Iteration\")\n",
    "    plt.ylabel(\"Fitness\")\n",
    "    plt.title(title)\n",
    "    length = len(curve)\n",
    "    y = \"Fitness\"\n",
    "    plt.plot(range(length), curve, label=\"Fitness\", lw=2)\n",
    "    plt.legend(loc=\"best\")\n",
    "    plt.show()"
   ]
  },
  {
   "cell_type": "code",
   "execution_count": 4,
   "metadata": {},
   "outputs": [
    {
     "name": "stdout",
     "output_type": "stream",
     "text": [
      "       Iteration      Time  Fitness   FEvals  Restarts  max_iters  \\\n",
      "1008           1  0.002037      2.0   1023.0        25        512   \n",
      "1996           1  0.002037      2.0   2024.0        25        512   \n",
      "9680           1  0.002037      2.0   1023.0        75        512   \n",
      "10668          1  0.002037      2.0   2024.0        75        512   \n",
      "35021          1  0.002037      2.0   1023.0       100        512   \n",
      "36009          1  0.002037      2.0   2024.0       100        512   \n",
      "63082          1  0.002037      2.0  29415.0       100        512   \n",
      "\n",
      "       current_restart  \n",
      "1008                 3  \n",
      "1996                 6  \n",
      "9680                 3  \n",
      "10668                6  \n",
      "35021                3  \n",
      "36009                6  \n",
      "63082               87  \n"
     ]
    }
   ],
   "source": [
    "rhc = mlrose_hiive.RHCRunner(problem=problem,\n",
    "                experiment_name=\"RHC on CPP\",\n",
    "                seed=0,\n",
    "                iteration_list=[512],\n",
    "                max_attempts=300,\n",
    "                restart_list=[25, 75, 100])   \n",
    "\n",
    "df_run_stats, df_run_curves = rhc.run()\n",
    "find_best_runs(df_run_curves)"
   ]
  },
  {
   "cell_type": "code",
   "execution_count": 7,
   "metadata": {},
   "outputs": [
    {
     "name": "stdout",
     "output_type": "stream",
     "text": [
      "Time for RHC CPP:  0.25098705291748047\n"
     ]
    }
   ],
   "source": [
    "st = time.time()\n",
    "best_state, best_fitness, rhc_curve = mlrose_hiive.random_hill_climb(problem,\n",
    "                                                         max_attempts=300,\n",
    "                                                         max_iters=512,\n",
    "                                                         random_state=0,\n",
    "                                                         restarts=75,\n",
    "                                                         curve=True)\n",
    "et = time.time()\n",
    "\n",
    "rhc_wc_time = et - st\n",
    "print(\"Time for RHC CPP: \", rhc_wc_time)"
   ]
  },
  {
   "cell_type": "code",
   "execution_count": 11,
   "metadata": {},
   "outputs": [
    {
     "data": {
      "image/png": "[encoded data removed]",
      "text/plain": [
       "<Figure size 432x288 with 1 Axes>"
      ]
     },
     "metadata": {
      "needs_background": "light"
     },
     "output_type": "display_data"
    }
   ],
   "source": [
    "fitness_curve(rhc_curve[:,0], \"CPP RHC Fitness Curve\")"
   ]
  },
  {
   "cell_type": "code",
   "execution_count": 12,
   "metadata": {},
   "outputs": [
    {
     "name": "stdout",
     "output_type": "stream",
     "text": [
      "      Iteration      Time  Fitness  FEvals Temperature  max_iters\n",
      "2557         47  0.002936      2.0    92.0         100        512\n",
      "2599         89  0.004390      2.0   175.0         100        512\n",
      "2600         90  0.004420      2.0   177.0         100        512\n",
      "2611        101  0.004792      2.0   199.0         100        512\n",
      "2654        144  0.006511      2.0   283.0         100        512\n",
      "2673        163  0.007372      2.0   321.0         100        512\n",
      "2702        192  0.008785      2.0   377.0         100        512\n",
      "2703        193  0.008835      2.0   379.0         100        512\n",
      "2705        195  0.008937      2.0   383.0         100        512\n",
      "2708        198  0.009088      2.0   389.0         100        512\n",
      "2709        199  0.009143      2.0   391.0         100        512\n",
      "3070         47  0.002936      2.0    92.0         100        512\n",
      "3112         89  0.004390      2.0   175.0         100        512\n",
      "3113         90  0.004420      2.0   177.0         100        512\n",
      "3124        101  0.004792      2.0   199.0         100        512\n",
      "3167        144  0.006511      2.0   283.0         100        512\n",
      "3186        163  0.007372      2.0   321.0         100        512\n",
      "3195        172  0.007834      2.0   339.0         100        512\n",
      "3196        173  0.007881      2.0   341.0         100        512\n",
      "3372        349  0.001183      2.0   680.0         100        512\n",
      "3373        350  0.001207      2.0   682.0         100        512\n",
      "3480        457  0.004074      2.0   881.0         100        512\n"
     ]
    }
   ],
   "source": [
    "sa = mlrose_hiive.SARunner(problem=problem,\n",
    "                  experiment_name=\"SA on CPP\",\n",
    "                  seed=0,\n",
    "                  iteration_list=[512],\n",
    "                  max_attempts=300,\n",
    "                  temperature_list=[0.1, 1, 10, 100],\n",
    "                  decay_list=[mlrose_hiive.GeomDecay, mlrose_hiive.ExpDecay])\n",
    "\n",
    "df_run_stats_sa, df_run_curves_sa = sa.run()\n",
    "find_best_runs(df_run_curves_sa)"
   ]
  },
  {
   "cell_type": "code",
   "execution_count": 15,
   "metadata": {},
   "outputs": [
    {
     "name": "stdout",
     "output_type": "stream",
     "text": [
      "Time for SA CPP:  0.25098705291748047\n"
     ]
    }
   ],
   "source": [
    "st = time.time()\n",
    "best_state, best_fitness, sa_curve = mlrose_hiive.simulated_annealing(problem,\n",
    "                                                             max_attempts=300,\n",
    "                                                             max_iters=512,\n",
    "                                                             random_state=0,\n",
    "                                                             schedule=mlrose_hiive.GeomDecay(100),\n",
    "                                                             curve=True)\n",
    "et = time.time()\n",
    "sa_wc_time = et - st\n",
    "print(\"Time for SA CPP: \", rhc_wc_time)"
   ]
  },
  {
   "cell_type": "code",
   "execution_count": 16,
   "metadata": {},
   "outputs": [
    {
     "data": {
      "image/png": "[encoded data removed]",
      "text/plain": [
       "<Figure size 432x288 with 1 Axes>"
      ]
     },
     "metadata": {
      "needs_background": "light"
     },
     "output_type": "display_data"
    }
   ],
   "source": [
    "fitness_curve(rhc_curve[:,0], \"CPP RHC Fitness Curve\")"
   ]
  },
  {
   "cell_type": "code",
   "execution_count": 17,
   "metadata": {},
   "outputs": [
    {
     "name": "stdout",
     "output_type": "stream",
     "text": [
      "      Iteration      Time  Fitness  FEvals Temperature  max_iters\n",
      "2557         47  0.002596      2.0    92.0         100        512\n",
      "2599         89  0.003908      2.0   175.0         100        512\n",
      "2600         90  0.003939      2.0   177.0         100        512\n",
      "2611        101  0.004296      2.0   199.0         100        512\n",
      "2654        144  0.005931      2.0   283.0         100        512\n",
      "2673        163  0.006757      2.0   321.0         100        512\n",
      "2702        192  0.008104      2.0   377.0         100        512\n",
      "2703        193  0.008151      2.0   379.0         100        512\n",
      "2705        195  0.008252      2.0   383.0         100        512\n",
      "2708        198  0.008402      2.0   389.0         100        512\n",
      "2709        199  0.008452      2.0   391.0         100        512\n",
      "3070         47  0.002596      2.0    92.0         100        512\n",
      "3112         89  0.003908      2.0   175.0         100        512\n",
      "3113         90  0.003939      2.0   177.0         100        512\n",
      "3124        101  0.004296      2.0   199.0         100        512\n",
      "3167        144  0.005931      2.0   283.0         100        512\n",
      "3186        163  0.006757      2.0   321.0         100        512\n",
      "3195        172  0.007167      2.0   339.0         100        512\n",
      "3196        173  0.007214      2.0   341.0         100        512\n",
      "3372        349  0.001190      2.0   680.0         100        512\n",
      "3373        350  0.001216      2.0   682.0         100        512\n",
      "3480        457  0.004441      2.0   881.0         100        512\n"
     ]
    }
   ],
   "source": [
    "sa = mlrose_hiive.SARunner(problem=problem,\n",
    "                  experiment_name=\"SA on CPP\",\n",
    "                  seed=0,\n",
    "                  iteration_list=[512],\n",
    "                  max_attempts=300,\n",
    "                  temperature_list=[0.1, 1, 10, 100],\n",
    "                  decay_list=[mlrose_hiive.GeomDecay, mlrose_hiive.ExpDecay])\n",
    "\n",
    "df_run_stats_sa, df_run_curves_sa = sa.run()\n",
    "find_best_runs(df_run_curves_sa)"
   ]
  },
  {
   "cell_type": "code",
   "execution_count": 19,
   "metadata": {},
   "outputs": [
    {
     "name": "stdout",
     "output_type": "stream",
     "text": [
      "Time for SA CPP:  0.021473169326782227\n"
     ]
    }
   ],
   "source": [
    "st = time.time()\n",
    "best_state, best_fitness, sa_curve = mlrose_hiive.simulated_annealing(problem,\n",
    "                                                             max_attempts=300,\n",
    "                                                             max_iters=512,\n",
    "                                                             random_state=0,\n",
    "                                                             schedule=mlrose_hiive.GeomDecay(100),\n",
    "                                                             curve=True)\n",
    "et = time.time()\n",
    "sa_wc_time = et - st\n",
    "print(\"Time for SA CPP: \", sa_wc_time)"
   ]
  },
  {
   "cell_type": "code",
   "execution_count": 20,
   "metadata": {},
   "outputs": [
    {
     "data": {
      "image/png": "[encoded data removed]",
      "text/plain": [
       "<Figure size 432x288 with 1 Axes>"
      ]
     },
     "metadata": {
      "needs_background": "light"
     },
     "output_type": "display_data"
    }
   ],
   "source": [
    "fitness_curve(sa_curve[:,0], \"CPP SA Fitness Curve\")"
   ]
  },
  {
   "cell_type": "code",
   "execution_count": 21,
   "metadata": {
    "scrolled": true
   },
   "outputs": [
    {
     "name": "stdout",
     "output_type": "stream",
     "text": [
      "      Iteration      Time  Fitness  FEvals  Population Size  Mutation Rate  \\\n",
      "0             0  0.016846     19.0   500.0              500           0.10   \n",
      "302           0  0.016846     19.0   500.0              500           0.25   \n",
      "604           0  0.016846     19.0   500.0              500           0.50   \n",
      "906           0  0.016846     19.0  1000.0             1000           0.10   \n",
      "1208          0  0.016846     19.0  1000.0             1000           0.25   \n",
      "1510          0  0.016846     19.0  1000.0             1000           0.50   \n",
      "\n",
      "      max_iters  \n",
      "0           512  \n",
      "302         512  \n",
      "604         512  \n",
      "906         512  \n",
      "1208        512  \n",
      "1510        512  \n"
     ]
    }
   ],
   "source": [
    "ga = mlrose_hiive.GARunner(problem=problem,\n",
    "                   experiment_name=\"GA on CPP\",\n",
    "                   seed=0,\n",
    "                   max_attempts=300,\n",
    "                   iteration_list=[512],\n",
    "                   population_sizes=[500, 1000],\n",
    "                   mutation_rates=[0.1, 0.25, 0.5])\n",
    "df_run_stats_ga, df_run_curves_ga = ga.run()\n",
    "find_best_runs(df_run_curves_ga)"
   ]
  },
  {
   "cell_type": "code",
   "execution_count": 22,
   "metadata": {},
   "outputs": [
    {
     "name": "stdout",
     "output_type": "stream",
     "text": [
      "Time for GA CPP:  3.93980073928833\n"
     ]
    }
   ],
   "source": [
    "st = time.time()\n",
    "best_state, best_fitness, ga_curve = mlrose_hiive.genetic_alg(problem,\n",
    "                                                   max_attempts=300,\n",
    "                                                   max_iters=512,\n",
    "                                                   random_state=0,\n",
    "                                                   pop_size=500,\n",
    "                                                   mutation_prob=0.10,\n",
    "                                                   curve=True)\n",
    "et = time.time()\n",
    "sa_wc_time = et - st\n",
    "print(\"Time for GA CPP: \", sa_wc_time)"
   ]
  },
  {
   "cell_type": "code",
   "execution_count": 23,
   "metadata": {},
   "outputs": [
    {
     "data": {
      "image/png": "[encoded data removed]",
      "text/plain": [
       "<Figure size 432x288 with 1 Axes>"
      ]
     },
     "metadata": {
      "needs_background": "light"
     },
     "output_type": "display_data"
    }
   ],
   "source": [
    "fitness_curve(ga_curve[:,0], \"FFP GA Fitness Curve\")"
   ]
  },
  {
   "cell_type": "code",
   "execution_count": 24,
   "metadata": {},
   "outputs": [
    {
     "name": "stdout",
     "output_type": "stream",
     "text": [
      "      Iteration      Time  Fitness  FEvals  use_fast_mimic  Population Size  \\\n",
      "0             0  0.004913     19.0   100.0            True              100   \n",
      "302           0  0.004913     19.0   100.0            True              100   \n",
      "605           0  0.004913     19.0   100.0            True              100   \n",
      "908           0  0.004913     19.0   500.0            True              500   \n",
      "1210          0  0.004913     19.0   500.0            True              500   \n",
      "1512          0  0.004913     19.0   500.0            True              500   \n",
      "1814          0  0.004913     19.0  1000.0            True             1000   \n",
      "2117          0  0.004913     19.0  1000.0            True             1000   \n",
      "2420          0  0.004913     19.0  1000.0            True             1000   \n",
      "\n",
      "      Keep Percent  max_iters  \n",
      "0             0.05        512  \n",
      "302           0.10        512  \n",
      "605           0.15        512  \n",
      "908           0.05        512  \n",
      "1210          0.10        512  \n",
      "1512          0.15        512  \n",
      "1814          0.05        512  \n",
      "2117          0.10        512  \n",
      "2420          0.15        512  \n"
     ]
    }
   ],
   "source": [
    "mimic = mlrose_hiive.MIMICRunner(problem=problem,\n",
    "                       experiment_name=\"FFP MIMIC Fitness Curve\",\n",
    "                       seed=0,\n",
    "                       population_sizes=[100, 500, 1000],\n",
    "                       keep_percent_list=[0.05, 0.1, 0.15],\n",
    "                       iteration_list=[512],\n",
    "                       max_attempts=300,\n",
    "                       use_fast_mimic=True)\n",
    "mimic_stats, mimic_curve = mimic.run()\n",
    "find_best_runs(mimic_curve)"
   ]
  },
  {
   "cell_type": "code",
   "execution_count": 25,
   "metadata": {},
   "outputs": [
    {
     "name": "stdout",
     "output_type": "stream",
     "text": [
      "Time for mimic CPP:  0.7200050354003906\n"
     ]
    }
   ],
   "source": [
    "st = time.time()\n",
    "best_state, best_fitness, mimic_curve = mlrose_hiive.mimic(problem,\n",
    "                                             max_attempts=300,\n",
    "                                             max_iters=512,\n",
    "                                             random_state=0,\n",
    "                                             pop_size=100,\n",
    "                                             keep_pct=0.05,\n",
    "                                             curve=True)\n",
    "et = time.time()\n",
    "mimic_wc_time = et - st\n",
    "print(\"Time for mimic CPP: \", mimic_wc_time)"
   ]
  },
  {
   "cell_type": "code",
   "execution_count": 26,
   "metadata": {},
   "outputs": [
    {
     "data": {
      "text/plain": [
       "Text(0, 0.5, 'Fitness')"
      ]
     },
     "execution_count": 26,
     "metadata": {},
     "output_type": "execute_result"
    },
    {
     "data": {
      "image/png": "[encoded data removed]",
      "text/plain": [
       "<Figure size 432x288 with 1 Axes>"
      ]
     },
     "metadata": {
      "needs_background": "light"
     },
     "output_type": "display_data"
    }
   ],
   "source": [
    "iterations = range(1, 500)\n",
    "plt.plot(rhc_curve[:, 0], label='RHC', color='green')\n",
    "plt.plot(sa_curve[:, 1], label='SA', color='red')\n",
    "plt.plot(ga_curve[:, 1], label='GA', color='blue')\n",
    "plt.plot(mimic_curve[:, 0], label='MIMIC', color='orange')\n",
    "plt.legend(loc=\"best\")\n",
    "plt.xlabel(\"Iterations\")\n",
    "plt.ylabel(\"Fitness\")"
   ]
  },
  {
   "cell_type": "code",
   "execution_count": null,
   "metadata": {},
   "outputs": [],
   "source": []
  },
  {
   "cell_type": "code",
   "execution_count": null,
   "metadata": {},
   "outputs": [],
   "source": []
  }
 ],
 "metadata": {
  "interpreter": {
   "hash": "aee8b7b246df8f9039afb4144a1f6fd8d2ca17a180786b69acc140d282b71a49"
  },
  "kernelspec": {
   "display_name": "Python 3 (ipykernel)",
   "language": "python",
   "name": "python3"
  },
  "language_info": {
   "codemirror_mode": {
    "name": "ipython",
    "version": 3
   },
   "file_extension": ".py",
   "mimetype": "text/x-python",
   "name": "python",
   "nbconvert_exporter": "python",
   "pygments_lexer": "ipython3",
   "version": "3.9.10"
  }
 },
 "nbformat": 4,
 "nbformat_minor": 2
}
